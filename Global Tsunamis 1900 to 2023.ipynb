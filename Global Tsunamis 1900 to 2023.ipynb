{
 "cells": [
  {
   "cell_type": "markdown",
   "id": "d15b016d",
   "metadata": {},
   "source": [
    "## Global Tsunamis 1900-2023"
   ]
  },
  {
   "cell_type": "markdown",
   "id": "a5ab47db",
   "metadata": {},
   "source": [
    "This Project will look at the NOAA data for Tsunamis. This [link](https://www.ngdc.noaa.gov/hazel/view/hazards/tsunami/event-data?maxYear=2023&minYear=1900) will bring you to the origional data. <br>\n",
    "Citation: [doi:10.7289/V5PN93H7](doi:10.7289/V5PN93H7)"
   ]
  },
  {
   "cell_type": "code",
   "execution_count": 2,
   "id": "57a42478",
   "metadata": {},
   "outputs": [],
   "source": [
    "import pandas as pd\n",
    "import numpy as np\n",
    "import seaborn as sns\n",
    "import matplotlib.pyplot as plt"
   ]
  },
  {
   "cell_type": "code",
   "execution_count": 4,
   "id": "eab162e5",
   "metadata": {},
   "outputs": [],
   "source": [
    "pd.set_option('display.max_columns', None)"
   ]
  },
  {
   "cell_type": "code",
   "execution_count": 3,
   "id": "e489db43",
   "metadata": {},
   "outputs": [],
   "source": [
    "tsunami = pd.read_csv('tsunamis-2023-11-11_17-43-29_-0400.tsv', delimiter='\\t')"
   ]
  },
  {
   "cell_type": "code",
   "execution_count": 5,
   "id": "f398de08",
   "metadata": {},
   "outputs": [
    {
     "name": "stdout",
     "output_type": "stream",
     "text": [
      "<class 'pandas.core.frame.DataFrame'>\n",
      "RangeIndex: 1454 entries, 0 to 1453\n",
      "Data columns (total 46 columns):\n",
      " #   Column                              Non-Null Count  Dtype  \n",
      "---  ------                              --------------  -----  \n",
      " 0   Search Parameters                   1 non-null      object \n",
      " 1   Year                                1453 non-null   float64\n",
      " 2   Mo                                  1440 non-null   float64\n",
      " 3   Dy                                  1418 non-null   float64\n",
      " 4   Hr                                  1140 non-null   float64\n",
      " 5   Mn                                  1127 non-null   float64\n",
      " 6   Sec                                 969 non-null    float64\n",
      " 7   Tsunami Event Validity              1453 non-null   float64\n",
      " 8   Tsunami Cause Code                  1453 non-null   float64\n",
      " 9   Earthquake Magnitude                1064 non-null   float64\n",
      " 10  Vol                                 92 non-null     float64\n",
      " 11  More Info                           0 non-null      float64\n",
      " 12  Deposits                            1453 non-null   float64\n",
      " 13  Country                             1453 non-null   object \n",
      " 14  Location Name                       1453 non-null   object \n",
      " 15  Latitude                            1359 non-null   float64\n",
      " 16  Longitude                           1359 non-null   float64\n",
      " 17  Maximum Water Height (m)            978 non-null    float64\n",
      " 18  Number of Runups                    1453 non-null   float64\n",
      " 19  Tsunami Magnitude (Abe)             1 non-null      float64\n",
      " 20  Tsunami Magnitude (Iida)            446 non-null    float64\n",
      " 21  Tsunami Intensity                   510 non-null    float64\n",
      " 22  Deaths                              163 non-null    float64\n",
      " 23  Death Description                   175 non-null    float64\n",
      " 24  Missing                             4 non-null      float64\n",
      " 25  Missing Description                 5 non-null      float64\n",
      " 26  Injuries                            61 non-null     float64\n",
      " 27  Injuries Description                72 non-null     float64\n",
      " 28  Damage ($Mil)                       47 non-null     float64\n",
      " 29  Damage Description                  325 non-null    float64\n",
      " 30  Houses Destroyed                    57 non-null     float64\n",
      " 31  Houses Destroyed Description        133 non-null    float64\n",
      " 32  Houses Damaged                      14 non-null     float64\n",
      " 33  Houses Damaged Description          40 non-null     float64\n",
      " 34  Total Deaths                        413 non-null    float64\n",
      " 35  Total Death Description             439 non-null    float64\n",
      " 36  Total Missing                       9 non-null      float64\n",
      " 37  Total Missing Description           10 non-null     float64\n",
      " 38  Total Injuries                      280 non-null    float64\n",
      " 39  Total Injuries Description          320 non-null    float64\n",
      " 40  Total Damage ($Mil)                 153 non-null    float64\n",
      " 41  Total Damage Description            699 non-null    float64\n",
      " 42  Total Houses Destroyed              166 non-null    float64\n",
      " 43  Total Houses Destroyed Description  348 non-null    float64\n",
      " 44  Total Houses Damaged                86 non-null     float64\n",
      " 45  Total Houses Damaged Description    182 non-null    float64\n",
      "dtypes: float64(43), object(3)\n",
      "memory usage: 522.7+ KB\n"
     ]
    }
   ],
   "source": [
    "tsunami.info()"
   ]
  },
  {
   "cell_type": "code",
   "execution_count": 5,
   "id": "9b3d29c9",
   "metadata": {},
   "outputs": [
    {
     "data": {
      "text/html": [
       "<div>\n",
       "<style scoped>\n",
       "    .dataframe tbody tr th:only-of-type {\n",
       "        vertical-align: middle;\n",
       "    }\n",
       "\n",
       "    .dataframe tbody tr th {\n",
       "        vertical-align: top;\n",
       "    }\n",
       "\n",
       "    .dataframe thead th {\n",
       "        text-align: right;\n",
       "    }\n",
       "</style>\n",
       "<table border=\"1\" class=\"dataframe\">\n",
       "  <thead>\n",
       "    <tr style=\"text-align: right;\">\n",
       "      <th></th>\n",
       "      <th>Search Parameters</th>\n",
       "      <th>Year</th>\n",
       "      <th>Mo</th>\n",
       "      <th>Dy</th>\n",
       "      <th>Hr</th>\n",
       "      <th>Mn</th>\n",
       "      <th>Sec</th>\n",
       "      <th>Tsunami Event Validity</th>\n",
       "      <th>Tsunami Cause Code</th>\n",
       "      <th>Earthquake Magnitude</th>\n",
       "      <th>Vol</th>\n",
       "      <th>More Info</th>\n",
       "      <th>Deposits</th>\n",
       "      <th>Country</th>\n",
       "      <th>Location Name</th>\n",
       "      <th>Latitude</th>\n",
       "      <th>Longitude</th>\n",
       "      <th>Maximum Water Height (m)</th>\n",
       "      <th>Number of Runups</th>\n",
       "      <th>Tsunami Magnitude (Abe)</th>\n",
       "      <th>Tsunami Magnitude (Iida)</th>\n",
       "      <th>Tsunami Intensity</th>\n",
       "      <th>Deaths</th>\n",
       "      <th>Death Description</th>\n",
       "      <th>Missing</th>\n",
       "      <th>Missing Description</th>\n",
       "      <th>Injuries</th>\n",
       "      <th>Injuries Description</th>\n",
       "      <th>Damage ($Mil)</th>\n",
       "      <th>Damage Description</th>\n",
       "      <th>Houses Destroyed</th>\n",
       "      <th>Houses Destroyed Description</th>\n",
       "      <th>Houses Damaged</th>\n",
       "      <th>Houses Damaged Description</th>\n",
       "      <th>Total Deaths</th>\n",
       "      <th>Total Death Description</th>\n",
       "      <th>Total Missing</th>\n",
       "      <th>Total Missing Description</th>\n",
       "      <th>Total Injuries</th>\n",
       "      <th>Total Injuries Description</th>\n",
       "      <th>Total Damage ($Mil)</th>\n",
       "      <th>Total Damage Description</th>\n",
       "      <th>Total Houses Destroyed</th>\n",
       "      <th>Total Houses Destroyed Description</th>\n",
       "      <th>Total Houses Damaged</th>\n",
       "      <th>Total Houses Damaged Description</th>\n",
       "    </tr>\n",
       "  </thead>\n",
       "  <tbody>\n",
       "    <tr>\n",
       "      <th>0</th>\n",
       "      <td>[\"1900 &lt;= Year &gt;= 2023\"]</td>\n",
       "      <td>NaN</td>\n",
       "      <td>NaN</td>\n",
       "      <td>NaN</td>\n",
       "      <td>NaN</td>\n",
       "      <td>NaN</td>\n",
       "      <td>NaN</td>\n",
       "      <td>NaN</td>\n",
       "      <td>NaN</td>\n",
       "      <td>NaN</td>\n",
       "      <td>NaN</td>\n",
       "      <td>NaN</td>\n",
       "      <td>NaN</td>\n",
       "      <td>NaN</td>\n",
       "      <td>NaN</td>\n",
       "      <td>NaN</td>\n",
       "      <td>NaN</td>\n",
       "      <td>NaN</td>\n",
       "      <td>NaN</td>\n",
       "      <td>NaN</td>\n",
       "      <td>NaN</td>\n",
       "      <td>NaN</td>\n",
       "      <td>NaN</td>\n",
       "      <td>NaN</td>\n",
       "      <td>NaN</td>\n",
       "      <td>NaN</td>\n",
       "      <td>NaN</td>\n",
       "      <td>NaN</td>\n",
       "      <td>NaN</td>\n",
       "      <td>NaN</td>\n",
       "      <td>NaN</td>\n",
       "      <td>NaN</td>\n",
       "      <td>NaN</td>\n",
       "      <td>NaN</td>\n",
       "      <td>NaN</td>\n",
       "      <td>NaN</td>\n",
       "      <td>NaN</td>\n",
       "      <td>NaN</td>\n",
       "      <td>NaN</td>\n",
       "      <td>NaN</td>\n",
       "      <td>NaN</td>\n",
       "      <td>NaN</td>\n",
       "      <td>NaN</td>\n",
       "      <td>NaN</td>\n",
       "      <td>NaN</td>\n",
       "      <td>NaN</td>\n",
       "    </tr>\n",
       "    <tr>\n",
       "      <th>1</th>\n",
       "      <td>NaN</td>\n",
       "      <td>1900.0</td>\n",
       "      <td>1.0</td>\n",
       "      <td>10.0</td>\n",
       "      <td>NaN</td>\n",
       "      <td>NaN</td>\n",
       "      <td>NaN</td>\n",
       "      <td>1.0</td>\n",
       "      <td>1.0</td>\n",
       "      <td>NaN</td>\n",
       "      <td>NaN</td>\n",
       "      <td>NaN</td>\n",
       "      <td>0.0</td>\n",
       "      <td>INDONESIA</td>\n",
       "      <td>GALELA, HALMAHERA ISLAND</td>\n",
       "      <td>1.82</td>\n",
       "      <td>127.85</td>\n",
       "      <td>NaN</td>\n",
       "      <td>1.0</td>\n",
       "      <td>NaN</td>\n",
       "      <td>NaN</td>\n",
       "      <td>0.0</td>\n",
       "      <td>NaN</td>\n",
       "      <td>NaN</td>\n",
       "      <td>NaN</td>\n",
       "      <td>NaN</td>\n",
       "      <td>NaN</td>\n",
       "      <td>NaN</td>\n",
       "      <td>NaN</td>\n",
       "      <td>NaN</td>\n",
       "      <td>NaN</td>\n",
       "      <td>NaN</td>\n",
       "      <td>NaN</td>\n",
       "      <td>NaN</td>\n",
       "      <td>NaN</td>\n",
       "      <td>NaN</td>\n",
       "      <td>NaN</td>\n",
       "      <td>NaN</td>\n",
       "      <td>NaN</td>\n",
       "      <td>NaN</td>\n",
       "      <td>NaN</td>\n",
       "      <td>NaN</td>\n",
       "      <td>NaN</td>\n",
       "      <td>NaN</td>\n",
       "      <td>NaN</td>\n",
       "      <td>NaN</td>\n",
       "    </tr>\n",
       "    <tr>\n",
       "      <th>2</th>\n",
       "      <td>NaN</td>\n",
       "      <td>1900.0</td>\n",
       "      <td>1.0</td>\n",
       "      <td>20.0</td>\n",
       "      <td>6.0</td>\n",
       "      <td>33.0</td>\n",
       "      <td>30.0</td>\n",
       "      <td>3.0</td>\n",
       "      <td>1.0</td>\n",
       "      <td>7.3</td>\n",
       "      <td>NaN</td>\n",
       "      <td>NaN</td>\n",
       "      <td>0.0</td>\n",
       "      <td>MEXICO</td>\n",
       "      <td>MEXICO</td>\n",
       "      <td>20.00</td>\n",
       "      <td>-105.00</td>\n",
       "      <td>NaN</td>\n",
       "      <td>0.0</td>\n",
       "      <td>NaN</td>\n",
       "      <td>NaN</td>\n",
       "      <td>NaN</td>\n",
       "      <td>NaN</td>\n",
       "      <td>1.0</td>\n",
       "      <td>NaN</td>\n",
       "      <td>NaN</td>\n",
       "      <td>NaN</td>\n",
       "      <td>NaN</td>\n",
       "      <td>NaN</td>\n",
       "      <td>1.0</td>\n",
       "      <td>NaN</td>\n",
       "      <td>NaN</td>\n",
       "      <td>NaN</td>\n",
       "      <td>NaN</td>\n",
       "      <td>NaN</td>\n",
       "      <td>2.0</td>\n",
       "      <td>NaN</td>\n",
       "      <td>NaN</td>\n",
       "      <td>NaN</td>\n",
       "      <td>NaN</td>\n",
       "      <td>NaN</td>\n",
       "      <td>3.0</td>\n",
       "      <td>NaN</td>\n",
       "      <td>3.0</td>\n",
       "      <td>NaN</td>\n",
       "      <td>NaN</td>\n",
       "    </tr>\n",
       "    <tr>\n",
       "      <th>3</th>\n",
       "      <td>NaN</td>\n",
       "      <td>1900.0</td>\n",
       "      <td>5.0</td>\n",
       "      <td>16.0</td>\n",
       "      <td>20.0</td>\n",
       "      <td>12.0</td>\n",
       "      <td>NaN</td>\n",
       "      <td>3.0</td>\n",
       "      <td>1.0</td>\n",
       "      <td>6.9</td>\n",
       "      <td>NaN</td>\n",
       "      <td>NaN</td>\n",
       "      <td>0.0</td>\n",
       "      <td>MEXICO</td>\n",
       "      <td>MEXICO</td>\n",
       "      <td>20.00</td>\n",
       "      <td>-105.00</td>\n",
       "      <td>NaN</td>\n",
       "      <td>2.0</td>\n",
       "      <td>NaN</td>\n",
       "      <td>NaN</td>\n",
       "      <td>NaN</td>\n",
       "      <td>NaN</td>\n",
       "      <td>1.0</td>\n",
       "      <td>NaN</td>\n",
       "      <td>NaN</td>\n",
       "      <td>NaN</td>\n",
       "      <td>NaN</td>\n",
       "      <td>NaN</td>\n",
       "      <td>1.0</td>\n",
       "      <td>NaN</td>\n",
       "      <td>NaN</td>\n",
       "      <td>NaN</td>\n",
       "      <td>NaN</td>\n",
       "      <td>NaN</td>\n",
       "      <td>1.0</td>\n",
       "      <td>NaN</td>\n",
       "      <td>NaN</td>\n",
       "      <td>NaN</td>\n",
       "      <td>NaN</td>\n",
       "      <td>NaN</td>\n",
       "      <td>1.0</td>\n",
       "      <td>NaN</td>\n",
       "      <td>NaN</td>\n",
       "      <td>NaN</td>\n",
       "      <td>NaN</td>\n",
       "    </tr>\n",
       "    <tr>\n",
       "      <th>4</th>\n",
       "      <td>NaN</td>\n",
       "      <td>1900.0</td>\n",
       "      <td>8.0</td>\n",
       "      <td>11.0</td>\n",
       "      <td>4.0</td>\n",
       "      <td>40.0</td>\n",
       "      <td>NaN</td>\n",
       "      <td>4.0</td>\n",
       "      <td>3.0</td>\n",
       "      <td>NaN</td>\n",
       "      <td>NaN</td>\n",
       "      <td>NaN</td>\n",
       "      <td>0.0</td>\n",
       "      <td>USA</td>\n",
       "      <td>LITUYA BAY, AK</td>\n",
       "      <td>58.60</td>\n",
       "      <td>-137.50</td>\n",
       "      <td>NaN</td>\n",
       "      <td>1.0</td>\n",
       "      <td>NaN</td>\n",
       "      <td>NaN</td>\n",
       "      <td>NaN</td>\n",
       "      <td>5.0</td>\n",
       "      <td>1.0</td>\n",
       "      <td>NaN</td>\n",
       "      <td>NaN</td>\n",
       "      <td>NaN</td>\n",
       "      <td>NaN</td>\n",
       "      <td>NaN</td>\n",
       "      <td>1.0</td>\n",
       "      <td>NaN</td>\n",
       "      <td>NaN</td>\n",
       "      <td>NaN</td>\n",
       "      <td>NaN</td>\n",
       "      <td>5.0</td>\n",
       "      <td>1.0</td>\n",
       "      <td>NaN</td>\n",
       "      <td>NaN</td>\n",
       "      <td>NaN</td>\n",
       "      <td>NaN</td>\n",
       "      <td>NaN</td>\n",
       "      <td>1.0</td>\n",
       "      <td>NaN</td>\n",
       "      <td>NaN</td>\n",
       "      <td>NaN</td>\n",
       "      <td>NaN</td>\n",
       "    </tr>\n",
       "  </tbody>\n",
       "</table>\n",
       "</div>"
      ],
      "text/plain": [
       "          Search Parameters    Year   Mo    Dy    Hr    Mn   Sec  \\\n",
       "0  [\"1900 <= Year >= 2023\"]     NaN  NaN   NaN   NaN   NaN   NaN   \n",
       "1                       NaN  1900.0  1.0  10.0   NaN   NaN   NaN   \n",
       "2                       NaN  1900.0  1.0  20.0   6.0  33.0  30.0   \n",
       "3                       NaN  1900.0  5.0  16.0  20.0  12.0   NaN   \n",
       "4                       NaN  1900.0  8.0  11.0   4.0  40.0   NaN   \n",
       "\n",
       "   Tsunami Event Validity  Tsunami Cause Code  Earthquake Magnitude  Vol  \\\n",
       "0                     NaN                 NaN                   NaN  NaN   \n",
       "1                     1.0                 1.0                   NaN  NaN   \n",
       "2                     3.0                 1.0                   7.3  NaN   \n",
       "3                     3.0                 1.0                   6.9  NaN   \n",
       "4                     4.0                 3.0                   NaN  NaN   \n",
       "\n",
       "   More Info  Deposits    Country             Location Name  Latitude  \\\n",
       "0        NaN       NaN        NaN                       NaN       NaN   \n",
       "1        NaN       0.0  INDONESIA  GALELA, HALMAHERA ISLAND      1.82   \n",
       "2        NaN       0.0     MEXICO                    MEXICO     20.00   \n",
       "3        NaN       0.0     MEXICO                    MEXICO     20.00   \n",
       "4        NaN       0.0        USA            LITUYA BAY, AK     58.60   \n",
       "\n",
       "   Longitude  Maximum Water Height (m)  Number of Runups  \\\n",
       "0        NaN                       NaN               NaN   \n",
       "1     127.85                       NaN               1.0   \n",
       "2    -105.00                       NaN               0.0   \n",
       "3    -105.00                       NaN               2.0   \n",
       "4    -137.50                       NaN               1.0   \n",
       "\n",
       "   Tsunami Magnitude (Abe)  Tsunami Magnitude (Iida)  Tsunami Intensity  \\\n",
       "0                      NaN                       NaN                NaN   \n",
       "1                      NaN                       NaN                0.0   \n",
       "2                      NaN                       NaN                NaN   \n",
       "3                      NaN                       NaN                NaN   \n",
       "4                      NaN                       NaN                NaN   \n",
       "\n",
       "   Deaths  Death Description  Missing  Missing Description  Injuries  \\\n",
       "0     NaN                NaN      NaN                  NaN       NaN   \n",
       "1     NaN                NaN      NaN                  NaN       NaN   \n",
       "2     NaN                1.0      NaN                  NaN       NaN   \n",
       "3     NaN                1.0      NaN                  NaN       NaN   \n",
       "4     5.0                1.0      NaN                  NaN       NaN   \n",
       "\n",
       "   Injuries Description  Damage ($Mil)  Damage Description  Houses Destroyed  \\\n",
       "0                   NaN            NaN                 NaN               NaN   \n",
       "1                   NaN            NaN                 NaN               NaN   \n",
       "2                   NaN            NaN                 1.0               NaN   \n",
       "3                   NaN            NaN                 1.0               NaN   \n",
       "4                   NaN            NaN                 1.0               NaN   \n",
       "\n",
       "   Houses Destroyed Description  Houses Damaged  Houses Damaged Description  \\\n",
       "0                           NaN             NaN                         NaN   \n",
       "1                           NaN             NaN                         NaN   \n",
       "2                           NaN             NaN                         NaN   \n",
       "3                           NaN             NaN                         NaN   \n",
       "4                           NaN             NaN                         NaN   \n",
       "\n",
       "   Total Deaths  Total Death Description  Total Missing  \\\n",
       "0           NaN                      NaN            NaN   \n",
       "1           NaN                      NaN            NaN   \n",
       "2           NaN                      2.0            NaN   \n",
       "3           NaN                      1.0            NaN   \n",
       "4           5.0                      1.0            NaN   \n",
       "\n",
       "   Total Missing Description  Total Injuries  Total Injuries Description  \\\n",
       "0                        NaN             NaN                         NaN   \n",
       "1                        NaN             NaN                         NaN   \n",
       "2                        NaN             NaN                         NaN   \n",
       "3                        NaN             NaN                         NaN   \n",
       "4                        NaN             NaN                         NaN   \n",
       "\n",
       "   Total Damage ($Mil)  Total Damage Description  Total Houses Destroyed  \\\n",
       "0                  NaN                       NaN                     NaN   \n",
       "1                  NaN                       NaN                     NaN   \n",
       "2                  NaN                       3.0                     NaN   \n",
       "3                  NaN                       1.0                     NaN   \n",
       "4                  NaN                       1.0                     NaN   \n",
       "\n",
       "   Total Houses Destroyed Description  Total Houses Damaged  \\\n",
       "0                                 NaN                   NaN   \n",
       "1                                 NaN                   NaN   \n",
       "2                                 3.0                   NaN   \n",
       "3                                 NaN                   NaN   \n",
       "4                                 NaN                   NaN   \n",
       "\n",
       "   Total Houses Damaged Description  \n",
       "0                               NaN  \n",
       "1                               NaN  \n",
       "2                               NaN  \n",
       "3                               NaN  \n",
       "4                               NaN  "
      ]
     },
     "execution_count": 5,
     "metadata": {},
     "output_type": "execute_result"
    }
   ],
   "source": [
    "tsunami.head()"
   ]
  },
  {
   "cell_type": "markdown",
   "id": "ada0daab",
   "metadata": {},
   "source": [
    "___\n",
    "Time to clean some of the data"
   ]
  },
  {
   "cell_type": "markdown",
   "id": "056eaa91",
   "metadata": {},
   "source": [
    "First drop the first row and then some usless columns. search parameters, Hr, Mn, Sec columns are not going to be used so they will be dropped. The Vol and More Info columns are links to more info about the event so they are going to be dropped"
   ]
  },
  {
   "cell_type": "code",
   "execution_count": 7,
   "id": "fa27d4e7",
   "metadata": {},
   "outputs": [],
   "source": [
    "tsunami.drop(0,inplace= True)\n",
    "drop_columns = ['Search Parameters','Hr','Mn','Sec','Vol','More Info','Deposits']\n",
    "tsunami.drop(drop_columns, axis = 1, inplace = True)"
   ]
  },
  {
   "cell_type": "markdown",
   "id": "f2b5a5bd",
   "metadata": {},
   "source": [
    "Next make the year, month, day, event validity, cause code, and number of runups columns into int values."
   ]
  },
  {
   "cell_type": "code",
   "execution_count": 8,
   "id": "beb6027f",
   "metadata": {},
   "outputs": [],
   "source": [
    "column = ['Year', 'Mo', 'Dy', 'Tsunami Event Validity', 'Tsunami Cause Code','Number of Runups']\n",
    "for col in column:\n",
    "    tsunami[col].replace([np.inf, -np.inf], np.nan, inplace=True)\n",
    "    tsunami[col].fillna(-1000, inplace=True)\n",
    "    tsunami[col] = tsunami[col].astype(int)\n",
    "    tsunami[col].replace(-1000, np.nan, inplace=True)"
   ]
  },
  {
   "cell_type": "markdown",
   "id": "61c29e7f",
   "metadata": {},
   "source": [
    "Earthquake magnatude should be greater than 3.5. Earthquakes less then 3.5 will not be felt so will not cause a tsunami. "
   ]
  },
  {
   "cell_type": "code",
   "execution_count": 43,
   "id": "10c143fd",
   "metadata": {},
   "outputs": [
    {
     "data": {
      "text/plain": [
       "count    1064.000000\n",
       "mean        7.013346\n",
       "std         0.769889\n",
       "min         3.700000\n",
       "25%         6.600000\n",
       "50%         7.100000\n",
       "75%         7.600000\n",
       "max         9.500000\n",
       "Name: Earthquake Magnitude, dtype: float64"
      ]
     },
     "execution_count": 43,
     "metadata": {},
     "output_type": "execute_result"
    }
   ],
   "source": [
    "tsunami['Earthquake Magnitude'].describe()"
   ]
  },
  {
   "cell_type": "markdown",
   "id": "299bbebc",
   "metadata": {},
   "source": [
    "Next check the latitude and longitude columns to make sure the values make sense.latitude goes from -90 to 90 and longitude from -180 to 180"
   ]
  },
  {
   "cell_type": "code",
   "execution_count": 10,
   "id": "6197fc1c",
   "metadata": {},
   "outputs": [
    {
     "data": {
      "text/plain": [
       "count    1359.000000\n",
       "mean       14.384619\n",
       "std        28.917103\n",
       "min       -63.000000\n",
       "25%        -8.328500\n",
       "50%        16.325000\n",
       "75%        38.709000\n",
       "max        78.370000\n",
       "Name: Latitude, dtype: float64"
      ]
     },
     "execution_count": 10,
     "metadata": {},
     "output_type": "execute_result"
    }
   ],
   "source": [
    "tsunami['Latitude'].describe()"
   ]
  },
  {
   "cell_type": "code",
   "execution_count": 11,
   "id": "050832b6",
   "metadata": {},
   "outputs": [
    {
     "data": {
      "text/plain": [
       "count    1359.000000\n",
       "mean       40.675884\n",
       "std       114.169556\n",
       "min      -179.971000\n",
       "25%       -71.691000\n",
       "50%        98.524000\n",
       "75%       142.058000\n",
       "max       179.984000\n",
       "Name: Longitude, dtype: float64"
      ]
     },
     "execution_count": 11,
     "metadata": {},
     "output_type": "execute_result"
    }
   ],
   "source": [
    "tsunami['Longitude'].describe()"
   ]
  },
  {
   "cell_type": "markdown",
   "id": "4b8a46fa",
   "metadata": {},
   "source": [
    "latitude and longitude are withen acceptable values"
   ]
  },
  {
   "cell_type": "markdown",
   "id": "7a26b910",
   "metadata": {},
   "source": [
    "____\n",
    "Taking a look at the event validity column.<br>\n",
    "the validity codes are the following:<br>\n",
    "<br>\n",
    "-1 ->\terroneous entry<br>\n",
    "0 ->\tevent that only caused a seiche or disturbance in an inland river/lake<br>\n",
    "1 ->\tvery doubtful tsunami<br>\n",
    "2 ->\tquestionable tsunami<br>\n",
    "3 ->\tprobable tsunami<br>\n",
    "4 ->\tdefinite tsunami<br>"
   ]
  },
  {
   "cell_type": "code",
   "execution_count": 45,
   "id": "97a624d5",
   "metadata": {},
   "outputs": [
    {
     "data": {
      "text/plain": [
       "-1     51\n",
       " 0     81\n",
       " 1    178\n",
       " 2    199\n",
       " 3    198\n",
       " 4    746\n",
       "Name: Tsunami Event Validity, dtype: int64"
      ]
     },
     "execution_count": 45,
     "metadata": {},
     "output_type": "execute_result"
    }
   ],
   "source": [
    "tsunami['Tsunami Event Validity'].value_counts().sort_index()"
   ]
  },
  {
   "cell_type": "markdown",
   "id": "999d791e",
   "metadata": {},
   "source": [
    "____\n",
    "Time to take a look at the cause code column.<br>\n",
    "The Cause codes are the folloing:<br>\n",
    "<br>\n",
    "0 ->\tUnknown<br>\n",
    "1 ->\tEarthquake<br>\n",
    "2 ->\tQuestionable Earthquake<br>\n",
    "3 ->\tEarthquake and Landslide<br>\n",
    "4 ->\tVolcano and Earthquake<br>\n",
    "5 ->\tVolcano, Earthquake, and Landslide<br>\n",
    "6 ->\tVolcano<br>\n",
    "7 ->\tVolcano and Landslide<br>\n",
    "8 ->\tLandslide<br>\n",
    "9 ->\tMeteorological<br>\n",
    "10 ->\tExplosion<br>\n",
    "11 ->\tAstronomical Tide<br>"
   ]
  },
  {
   "cell_type": "code",
   "execution_count": 15,
   "id": "66c07a34",
   "metadata": {},
   "outputs": [
    {
     "data": {
      "text/plain": [
       "0       75\n",
       "1     1049\n",
       "2        8\n",
       "3       71\n",
       "4        5\n",
       "5        1\n",
       "6       67\n",
       "7       10\n",
       "8       95\n",
       "9       70\n",
       "10       2\n",
       "Name: Tsunami Cause Code, dtype: int64"
      ]
     },
     "execution_count": 15,
     "metadata": {},
     "output_type": "execute_result"
    }
   ],
   "source": [
    "tsunami['Tsunami Cause Code'].value_counts().sort_index()"
   ]
  },
  {
   "cell_type": "markdown",
   "id": "7b76fb1a",
   "metadata": {},
   "source": [
    "___\n",
    "The amount of non earthquake caused tsunami events"
   ]
  },
  {
   "cell_type": "code",
   "execution_count": 46,
   "id": "81b8b506",
   "metadata": {},
   "outputs": [
    {
     "data": {
      "text/plain": [
       "404"
      ]
     },
     "execution_count": 46,
     "metadata": {},
     "output_type": "execute_result"
    }
   ],
   "source": [
    "tsunami[tsunami['Tsunami Cause Code'] != 1].shape[0]"
   ]
  },
  {
   "cell_type": "markdown",
   "id": "7ea346ab",
   "metadata": {},
   "source": [
    "The Total countries affected"
   ]
  },
  {
   "cell_type": "code",
   "execution_count": 98,
   "id": "0a322c9c",
   "metadata": {},
   "outputs": [
    {
     "data": {
      "text/plain": [
       "95"
      ]
     },
     "execution_count": 98,
     "metadata": {},
     "output_type": "execute_result"
    }
   ],
   "source": [
    "tsunami['Country'].nunique()"
   ]
  },
  {
   "cell_type": "markdown",
   "id": "d63592ed",
   "metadata": {},
   "source": [
    "A list of all of the countries affected"
   ]
  },
  {
   "cell_type": "code",
   "execution_count": 99,
   "id": "9b19e909",
   "metadata": {},
   "outputs": [
    {
     "data": {
      "text/plain": [
       "array(['INDONESIA', 'MEXICO', 'USA', 'PAPUA NEW GUINEA', 'VENEZUELA',\n",
       "       'BULGARIA', 'JAPAN', 'NEW CALEDONIA', 'PHILIPPINES', 'NICARAGUA',\n",
       "       'GUATEMALA', 'EL SALVADOR', 'MARTINIQUE (FRENCH TERRITORY)',\n",
       "       'SAINT VINCENT AND THE GRENADINES', 'GREECE', 'USA TERRITORY',\n",
       "       'ITALY', 'TAIWAN', 'CHILE', 'CANADA', 'COLOMBIA', 'RUSSIA',\n",
       "       'NEW ZEALAND', 'PANAMA', 'COOK ISLANDS', 'NORWAY', 'COSTA RICA',\n",
       "       'VANUATU', 'INDIA', 'SAMOA', 'GEORGIA', 'TUNISIA', 'TOGO',\n",
       "       'ECUADOR', 'MARSHALL ISLANDS, REP. OF', 'GHANA', 'PERU', 'JAMAICA',\n",
       "       'TONGA', 'UKRAINE', 'ALBANIA', 'TRINIDAD AND TOBAGO', 'TURKEY',\n",
       "       'MICRONESIA, FED. STATES OF', 'DOMINICAN REPUBLIC', 'CHINA',\n",
       "       'FRENCH POLYNESIA', 'ICELAND', 'AUSTRALIA', 'KOREA', 'VIETNAM',\n",
       "       'SOLOMON ISLANDS', 'UK', 'SOUTH KOREA', 'PORTUGAL', 'ISRAEL',\n",
       "       'SPAIN', 'MYANMAR (BURMA)', 'KENYA', 'CUBA', 'NEPAL', 'PAKISTAN',\n",
       "       'NAURU', 'CONGO', 'GRENADA', 'CYPRUS', 'ATLANTIC OCEAN',\n",
       "       'GREENLAND', 'FIJI', 'ARGENTINA', 'ALGERIA', 'PACIFIC OCEAN',\n",
       "       'MOROCCO', 'CROATIA', 'ANTARCTICA', 'EGYPT', 'SWEDEN',\n",
       "       'SOUTH AFRICA', 'GUADELOUPE (FRENCH TERRITORY)', 'MONTENEGRO',\n",
       "       'FRANCE', 'UK TERRITORY', 'CAMEROON', 'BANGLADESH', 'IRAN',\n",
       "       'WALLIS AND FUTUNA (FRENCH TERRITORY)', 'SWITZERLAND', 'HONDURAS',\n",
       "       'MONTSERRAT', 'JORDAN', 'KERMADEC ISLANDS', 'EAST CHINA SEA',\n",
       "       'HAITI', 'SCOTLAND', 'NETHERLANDS'], dtype=object)"
      ]
     },
     "execution_count": 99,
     "metadata": {},
     "output_type": "execute_result"
    }
   ],
   "source": [
    "tsunami['Country'].unique()"
   ]
  },
  {
   "cell_type": "markdown",
   "id": "3baf6249",
   "metadata": {},
   "source": [
    "____\n",
    "Time to filter the data to only look at probable and definate tsunami events for when the cause is earthquakes"
   ]
  },
  {
   "cell_type": "code",
   "execution_count": 17,
   "id": "45bb4db1",
   "metadata": {},
   "outputs": [],
   "source": [
    "pro_tsu = tsunami[(tsunami['Tsunami Event Validity'] >= 3) & (tsunami['Tsunami Cause Code'] == 1)]"
   ]
  },
  {
   "cell_type": "code",
   "execution_count": 18,
   "id": "53c0ea5d",
   "metadata": {},
   "outputs": [
    {
     "name": "stdout",
     "output_type": "stream",
     "text": [
      "<class 'pandas.core.frame.DataFrame'>\n",
      "Int64Index: 745 entries, 2 to 1452\n",
      "Data columns (total 39 columns):\n",
      " #   Column                              Non-Null Count  Dtype  \n",
      "---  ------                              --------------  -----  \n",
      " 0   Year                                745 non-null    int32  \n",
      " 1   Mo                                  745 non-null    float64\n",
      " 2   Dy                                  745 non-null    float64\n",
      " 3   Tsunami Event Validity              745 non-null    int32  \n",
      " 4   Tsunami Cause Code                  745 non-null    int32  \n",
      " 5   Earthquake Magnitude                739 non-null    float64\n",
      " 6   Country                             745 non-null    object \n",
      " 7   Location Name                       745 non-null    object \n",
      " 8   Latitude                            745 non-null    float64\n",
      " 9   Longitude                           745 non-null    float64\n",
      " 10  Maximum Water Height (m)            646 non-null    float64\n",
      " 11  Number of Runups                    745 non-null    int32  \n",
      " 12  Tsunami Magnitude (Abe)             1 non-null      float64\n",
      " 13  Tsunami Magnitude (Iida)            335 non-null    float64\n",
      " 14  Tsunami Intensity                   296 non-null    float64\n",
      " 15  Deaths                              84 non-null     float64\n",
      " 16  Death Description                   89 non-null     float64\n",
      " 17  Missing                             1 non-null      float64\n",
      " 18  Missing Description                 1 non-null      float64\n",
      " 19  Injuries                            36 non-null     float64\n",
      " 20  Injuries Description                40 non-null     float64\n",
      " 21  Damage ($Mil)                       25 non-null     float64\n",
      " 22  Damage Description                  167 non-null    float64\n",
      " 23  Houses Destroyed                    40 non-null     float64\n",
      " 24  Houses Destroyed Description        83 non-null     float64\n",
      " 25  Houses Damaged                      9 non-null      float64\n",
      " 26  Houses Damaged Description          19 non-null     float64\n",
      " 27  Total Deaths                        247 non-null    float64\n",
      " 28  Total Death Description             259 non-null    float64\n",
      " 29  Total Missing                       6 non-null      float64\n",
      " 30  Total Missing Description           6 non-null      float64\n",
      " 31  Total Injuries                      203 non-null    float64\n",
      " 32  Total Injuries Description          222 non-null    float64\n",
      " 33  Total Damage ($Mil)                 100 non-null    float64\n",
      " 34  Total Damage Description            399 non-null    float64\n",
      " 35  Total Houses Destroyed              124 non-null    float64\n",
      " 36  Total Houses Destroyed Description  225 non-null    float64\n",
      " 37  Total Houses Damaged                69 non-null     float64\n",
      " 38  Total Houses Damaged Description    118 non-null    float64\n",
      "dtypes: float64(33), int32(4), object(2)\n",
      "memory usage: 221.2+ KB\n"
     ]
    }
   ],
   "source": [
    "pro_tsu.info()"
   ]
  },
  {
   "cell_type": "markdown",
   "id": "9ed5fa60",
   "metadata": {},
   "source": [
    "A quick look at the countries and how many tsunamis hit them"
   ]
  },
  {
   "cell_type": "code",
   "execution_count": 19,
   "id": "81e59dc6",
   "metadata": {},
   "outputs": [
    {
     "data": {
      "text/plain": [
       "JAPAN                                   156\n",
       "INDONESIA                                63\n",
       "RUSSIA                                   61\n",
       "USA                                      40\n",
       "SOLOMON ISLANDS                          38\n",
       "CHILE                                    38\n",
       "PAPUA NEW GUINEA                         37\n",
       "MEXICO                                   33\n",
       "PHILIPPINES                              31\n",
       "NEW ZEALAND                              24\n",
       "GREECE                                   24\n",
       "VANUATU                                  20\n",
       "NEW CALEDONIA                            19\n",
       "TAIWAN                                   15\n",
       "COSTA RICA                               10\n",
       "PERU                                     10\n",
       "TONGA                                     9\n",
       "TURKEY                                    8\n",
       "USA TERRITORY                             7\n",
       "ITALY                                     7\n",
       "SAMOA                                     7\n",
       "ECUADOR                                   5\n",
       "VENEZUELA                                 5\n",
       "AUSTRALIA                                 4\n",
       "INDIA                                     4\n",
       "ANTARCTICA                                4\n",
       "CANADA                                    4\n",
       "GUADELOUPE (FRENCH TERRITORY)             4\n",
       "EL SALVADOR                               4\n",
       "NICARAGUA                                 4\n",
       "UK TERRITORY                              3\n",
       "PANAMA                                    3\n",
       "ALGERIA                                   3\n",
       "PORTUGAL                                  3\n",
       "GUATEMALA                                 3\n",
       "CHINA                                     3\n",
       "DOMINICAN REPUBLIC                        2\n",
       "EGYPT                                     2\n",
       "COLOMBIA                                  2\n",
       "FIJI                                      2\n",
       "ATLANTIC OCEAN                            2\n",
       "HONDURAS                                  2\n",
       "KERMADEC ISLANDS                          2\n",
       "UKRAINE                                   2\n",
       "MOROCCO                                   1\n",
       "JORDAN                                    1\n",
       "CUBA                                      1\n",
       "WALLIS AND FUTUNA (FRENCH TERRITORY)      1\n",
       "KENYA                                     1\n",
       "MONTENEGRO                                1\n",
       "SPAIN                                     1\n",
       "CROATIA                                   1\n",
       "CYPRUS                                    1\n",
       "TOGO                                      1\n",
       "MYANMAR (BURMA)                           1\n",
       "ALBANIA                                   1\n",
       "BULGARIA                                  1\n",
       "JAMAICA                                   1\n",
       "GHANA                                     1\n",
       "HAITI                                     1\n",
       "Name: Country, dtype: int64"
      ]
     },
     "execution_count": 19,
     "metadata": {},
     "output_type": "execute_result"
    }
   ],
   "source": [
    "pro_tsu['Country'].value_counts()"
   ]
  },
  {
   "cell_type": "markdown",
   "id": "8f05d1d9",
   "metadata": {},
   "source": [
    "Making a data frame to plot countries affected vs the number of tsunamis they have had"
   ]
  },
  {
   "cell_type": "code",
   "execution_count": 20,
   "id": "8884fe58",
   "metadata": {},
   "outputs": [],
   "source": [
    "data = pro_tsu['Country'].value_counts()\n",
    "agg_data = data.to_frame()\n",
    "agg_data.reset_index(inplace = True) \n",
    "agg_data.rename(columns={'index':'country','Country':'num_tsunami'},inplace = True)\n",
    "agg_data = agg_data.sort_values('num_tsunami',ascending= False).reset_index()\n",
    "agg_data.drop(columns = 'index', axis = 1, inplace = True)"
   ]
  },
  {
   "cell_type": "code",
   "execution_count": 21,
   "id": "6046b7bd",
   "metadata": {},
   "outputs": [
    {
     "data": {
      "text/html": [
       "<div>\n",
       "<style scoped>\n",
       "    .dataframe tbody tr th:only-of-type {\n",
       "        vertical-align: middle;\n",
       "    }\n",
       "\n",
       "    .dataframe tbody tr th {\n",
       "        vertical-align: top;\n",
       "    }\n",
       "\n",
       "    .dataframe thead th {\n",
       "        text-align: right;\n",
       "    }\n",
       "</style>\n",
       "<table border=\"1\" class=\"dataframe\">\n",
       "  <thead>\n",
       "    <tr style=\"text-align: right;\">\n",
       "      <th></th>\n",
       "      <th>country</th>\n",
       "      <th>num_tsunami</th>\n",
       "    </tr>\n",
       "  </thead>\n",
       "  <tbody>\n",
       "    <tr>\n",
       "      <th>0</th>\n",
       "      <td>JAPAN</td>\n",
       "      <td>156</td>\n",
       "    </tr>\n",
       "    <tr>\n",
       "      <th>1</th>\n",
       "      <td>INDONESIA</td>\n",
       "      <td>63</td>\n",
       "    </tr>\n",
       "    <tr>\n",
       "      <th>2</th>\n",
       "      <td>RUSSIA</td>\n",
       "      <td>61</td>\n",
       "    </tr>\n",
       "    <tr>\n",
       "      <th>3</th>\n",
       "      <td>USA</td>\n",
       "      <td>40</td>\n",
       "    </tr>\n",
       "    <tr>\n",
       "      <th>4</th>\n",
       "      <td>SOLOMON ISLANDS</td>\n",
       "      <td>38</td>\n",
       "    </tr>\n",
       "    <tr>\n",
       "      <th>5</th>\n",
       "      <td>CHILE</td>\n",
       "      <td>38</td>\n",
       "    </tr>\n",
       "    <tr>\n",
       "      <th>6</th>\n",
       "      <td>PAPUA NEW GUINEA</td>\n",
       "      <td>37</td>\n",
       "    </tr>\n",
       "    <tr>\n",
       "      <th>7</th>\n",
       "      <td>MEXICO</td>\n",
       "      <td>33</td>\n",
       "    </tr>\n",
       "    <tr>\n",
       "      <th>8</th>\n",
       "      <td>PHILIPPINES</td>\n",
       "      <td>31</td>\n",
       "    </tr>\n",
       "    <tr>\n",
       "      <th>9</th>\n",
       "      <td>NEW ZEALAND</td>\n",
       "      <td>24</td>\n",
       "    </tr>\n",
       "  </tbody>\n",
       "</table>\n",
       "</div>"
      ],
      "text/plain": [
       "            country  num_tsunami\n",
       "0             JAPAN          156\n",
       "1         INDONESIA           63\n",
       "2            RUSSIA           61\n",
       "3               USA           40\n",
       "4   SOLOMON ISLANDS           38\n",
       "5             CHILE           38\n",
       "6  PAPUA NEW GUINEA           37\n",
       "7            MEXICO           33\n",
       "8       PHILIPPINES           31\n",
       "9       NEW ZEALAND           24"
      ]
     },
     "execution_count": 21,
     "metadata": {},
     "output_type": "execute_result"
    }
   ],
   "source": [
    "agg_data.head(10)"
   ]
  },
  {
   "cell_type": "code",
   "execution_count": 48,
   "id": "08dc72da",
   "metadata": {},
   "outputs": [
    {
     "data": {
      "image/png": "[encoded data removed]",
      "text/plain": [
       "<Figure size 1000x600 with 1 Axes>"
      ]
     },
     "metadata": {},
     "output_type": "display_data"
    }
   ],
   "source": [
    "plt.figure(figsize=(10, 6))\n",
    "sns.barplot(x='country',y='num_tsunami',data = agg_data.head(10), palette = 'viridis')\n",
    "plt.xticks(rotation=45, ha='center')\n",
    "plt.ylabel(\"Number of Tsunamis\")\n",
    "plt.title('Top 10 Countries With Earthquake Tsunamis')\n",
    "plt.show()"
   ]
  },
  {
   "cell_type": "markdown",
   "id": "3e31e41c",
   "metadata": {},
   "source": [
    "Making a Data Frame to help plot the amount of earthquake tsunamis happen a year"
   ]
  },
  {
   "cell_type": "code",
   "execution_count": 34,
   "id": "6b00ce27",
   "metadata": {},
   "outputs": [],
   "source": [
    "data = pro_tsu['Year'].value_counts()\n",
    "agg_data1 = data.to_frame()\n",
    "agg_data1.reset_index(inplace = True)\n",
    "agg_data1.rename(columns={'index':'year','Year':'num_tsunami'},inplace = True)\n",
    "agg_data1 = agg_data1.sort_values('year').reset_index()\n",
    "agg_data1.drop(columns = 'index', axis = 1, inplace = True)"
   ]
  },
  {
   "cell_type": "code",
   "execution_count": 35,
   "id": "0d42d275",
   "metadata": {},
   "outputs": [
    {
     "data": {
      "text/html": [
       "<div>\n",
       "<style scoped>\n",
       "    .dataframe tbody tr th:only-of-type {\n",
       "        vertical-align: middle;\n",
       "    }\n",
       "\n",
       "    .dataframe tbody tr th {\n",
       "        vertical-align: top;\n",
       "    }\n",
       "\n",
       "    .dataframe thead th {\n",
       "        text-align: right;\n",
       "    }\n",
       "</style>\n",
       "<table border=\"1\" class=\"dataframe\">\n",
       "  <thead>\n",
       "    <tr style=\"text-align: right;\">\n",
       "      <th></th>\n",
       "      <th>year</th>\n",
       "      <th>num_tsunami</th>\n",
       "    </tr>\n",
       "  </thead>\n",
       "  <tbody>\n",
       "    <tr>\n",
       "      <th>0</th>\n",
       "      <td>1900</td>\n",
       "      <td>6</td>\n",
       "    </tr>\n",
       "    <tr>\n",
       "      <th>1</th>\n",
       "      <td>1901</td>\n",
       "      <td>8</td>\n",
       "    </tr>\n",
       "    <tr>\n",
       "      <th>2</th>\n",
       "      <td>1902</td>\n",
       "      <td>2</td>\n",
       "    </tr>\n",
       "    <tr>\n",
       "      <th>3</th>\n",
       "      <td>1903</td>\n",
       "      <td>1</td>\n",
       "    </tr>\n",
       "    <tr>\n",
       "      <th>4</th>\n",
       "      <td>1904</td>\n",
       "      <td>2</td>\n",
       "    </tr>\n",
       "    <tr>\n",
       "      <th>...</th>\n",
       "      <td>...</td>\n",
       "      <td>...</td>\n",
       "    </tr>\n",
       "    <tr>\n",
       "      <th>117</th>\n",
       "      <td>2019</td>\n",
       "      <td>4</td>\n",
       "    </tr>\n",
       "    <tr>\n",
       "      <th>118</th>\n",
       "      <td>2020</td>\n",
       "      <td>10</td>\n",
       "    </tr>\n",
       "    <tr>\n",
       "      <th>119</th>\n",
       "      <td>2021</td>\n",
       "      <td>13</td>\n",
       "    </tr>\n",
       "    <tr>\n",
       "      <th>120</th>\n",
       "      <td>2022</td>\n",
       "      <td>9</td>\n",
       "    </tr>\n",
       "    <tr>\n",
       "      <th>121</th>\n",
       "      <td>2023</td>\n",
       "      <td>10</td>\n",
       "    </tr>\n",
       "  </tbody>\n",
       "</table>\n",
       "<p>122 rows × 2 columns</p>\n",
       "</div>"
      ],
      "text/plain": [
       "     year  num_tsunami\n",
       "0    1900            6\n",
       "1    1901            8\n",
       "2    1902            2\n",
       "3    1903            1\n",
       "4    1904            2\n",
       "..    ...          ...\n",
       "117  2019            4\n",
       "118  2020           10\n",
       "119  2021           13\n",
       "120  2022            9\n",
       "121  2023           10\n",
       "\n",
       "[122 rows x 2 columns]"
      ]
     },
     "execution_count": 35,
     "metadata": {},
     "output_type": "execute_result"
    }
   ],
   "source": [
    "agg_data1"
   ]
  },
  {
   "cell_type": "markdown",
   "id": "802a6a5d",
   "metadata": {},
   "source": [
    "Plotting the amount of earthquake tsunamis per year"
   ]
  },
  {
   "cell_type": "code",
   "execution_count": 53,
   "id": "e4176e23",
   "metadata": {},
   "outputs": [
    {
     "data": {
      "image/png": "[encoded data removed]",
      "text/plain": [
       "<Figure size 2000x600 with 1 Axes>"
      ]
     },
     "metadata": {},
     "output_type": "display_data"
    }
   ],
   "source": [
    "plt.figure(figsize=(20, 6))\n",
    "sns.barplot(x='year',y='num_tsunami',data = agg_data1, palette = 'mako' )\n",
    "plt.xticks(rotation=90, ha='center')\n",
    "plt.ylabel(\"Number of Tsunamis\")\n",
    "plt.title('Global Earthquake Caused Tsunamis per Year')\n",
    "plt.show()"
   ]
  },
  {
   "cell_type": "code",
   "execution_count": null,
   "id": "5701e12f",
   "metadata": {},
   "outputs": [],
   "source": [
    "#@todo look at top 3 countries\n",
    "#find yearly breakdown"
   ]
  },
  {
   "cell_type": "markdown",
   "id": "7b15c14e",
   "metadata": {},
   "source": [
    "____\n",
    "Time to filter the data to only look at probable and definate tsunami events for when the cause is not earthquakes"
   ]
  },
  {
   "cell_type": "code",
   "execution_count": null,
   "id": "ea95a39d",
   "metadata": {},
   "outputs": [],
   "source": [
    "non_earth = tsunami[(tsunami['Tsunami Event Validity'] >= 3) & (tsunami['Tsunami Cause Code'] != 1)]"
   ]
  },
  {
   "cell_type": "code",
   "execution_count": 26,
   "id": "7b741708",
   "metadata": {},
   "outputs": [
    {
     "name": "stdout",
     "output_type": "stream",
     "text": [
      "<class 'pandas.core.frame.DataFrame'>\n",
      "Int64Index: 199 entries, 4 to 1453\n",
      "Data columns (total 39 columns):\n",
      " #   Column                              Non-Null Count  Dtype  \n",
      "---  ------                              --------------  -----  \n",
      " 0   Year                                199 non-null    int32  \n",
      " 1   Mo                                  196 non-null    float64\n",
      " 2   Dy                                  193 non-null    float64\n",
      " 3   Tsunami Event Validity              199 non-null    int32  \n",
      " 4   Tsunami Cause Code                  199 non-null    int32  \n",
      " 5   Earthquake Magnitude                59 non-null     float64\n",
      " 6   Country                             199 non-null    object \n",
      " 7   Location Name                       199 non-null    object \n",
      " 8   Latitude                            179 non-null    float64\n",
      " 9   Longitude                           179 non-null    float64\n",
      " 10  Maximum Water Height (m)            165 non-null    float64\n",
      " 11  Number of Runups                    199 non-null    int32  \n",
      " 12  Tsunami Magnitude (Abe)             0 non-null      float64\n",
      " 13  Tsunami Magnitude (Iida)            52 non-null     float64\n",
      " 14  Tsunami Intensity                   69 non-null     float64\n",
      " 15  Deaths                              44 non-null     float64\n",
      " 16  Death Description                   46 non-null     float64\n",
      " 17  Missing                             2 non-null      float64\n",
      " 18  Missing Description                 2 non-null      float64\n",
      " 19  Injuries                            19 non-null     float64\n",
      " 20  Injuries Description                23 non-null     float64\n",
      " 21  Damage ($Mil)                       15 non-null     float64\n",
      " 22  Damage Description                  91 non-null     float64\n",
      " 23  Houses Destroyed                    10 non-null     float64\n",
      " 24  Houses Destroyed Description        26 non-null     float64\n",
      " 25  Houses Damaged                      3 non-null      float64\n",
      " 26  Houses Damaged Description          13 non-null     float64\n",
      " 27  Total Deaths                        73 non-null     float64\n",
      " 28  Total Death Description             73 non-null     float64\n",
      " 29  Total Missing                       2 non-null      float64\n",
      " 30  Total Missing Description           2 non-null      float64\n",
      " 31  Total Injuries                      42 non-null     float64\n",
      " 32  Total Injuries Description          49 non-null     float64\n",
      " 33  Total Damage ($Mil)                 30 non-null     float64\n",
      " 34  Total Damage Description            121 non-null    float64\n",
      " 35  Total Houses Destroyed              22 non-null     float64\n",
      " 36  Total Houses Destroyed Description  46 non-null     float64\n",
      " 37  Total Houses Damaged                9 non-null      float64\n",
      " 38  Total Houses Damaged Description    23 non-null     float64\n",
      "dtypes: float64(33), int32(4), object(2)\n",
      "memory usage: 59.1+ KB\n"
     ]
    }
   ],
   "source": [
    "non_earth.info()"
   ]
  },
  {
   "cell_type": "code",
   "execution_count": 96,
   "id": "fdfc4a35",
   "metadata": {},
   "outputs": [
    {
     "data": {
      "text/plain": [
       "USA                 33\n",
       "NORWAY              16\n",
       "ITALY               12\n",
       "JAPAN               12\n",
       "CANADA              11\n",
       "PAPUA NEW GUINEA    11\n",
       "INDONESIA           10\n",
       "GREECE              10\n",
       "NEW ZEALAND          6\n",
       "RUSSIA               6\n",
       "Name: Country, dtype: int64"
      ]
     },
     "execution_count": 96,
     "metadata": {},
     "output_type": "execute_result"
    }
   ],
   "source": [
    "non_earth['Country'].value_counts().head(10)"
   ]
  },
  {
   "cell_type": "code",
   "execution_count": 60,
   "id": "e115e51a",
   "metadata": {},
   "outputs": [],
   "source": [
    "data = non_earth['Country'].value_counts()\n",
    "agg_data2 = data.to_frame()\n",
    "agg_data2.reset_index(inplace = True) \n",
    "agg_data2.rename(columns={'index':'country','Country':'num_tsunami'},inplace = True)\n",
    "agg_data2 = agg_data2.sort_values('num_tsunami',ascending= False).reset_index()\n",
    "agg_data2.drop(columns = 'index', axis = 1, inplace = True)"
   ]
  },
  {
   "cell_type": "code",
   "execution_count": 69,
   "id": "c11cbed5",
   "metadata": {},
   "outputs": [
    {
     "data": {
      "image/png": "[encoded data removed]",
      "text/plain": [
       "<Figure size 1600x400 with 1 Axes>"
      ]
     },
     "metadata": {},
     "output_type": "display_data"
    }
   ],
   "source": [
    "plt.figure(figsize=(16,4))\n",
    "sns.barplot(data=agg_data2.head(10), x='country',y='num_tsunami',palette = 'viridis')\n",
    "plt.xticks(rotation=45, ha='center')\n",
    "plt.xlabel('Country')\n",
    "plt.ylabel(\"Number of Tsunamis\")\n",
    "plt.title('Top 10 Countries With non Earthquake Tsunamis')\n",
    "plt.show()"
   ]
  },
  {
   "cell_type": "code",
   "execution_count": 88,
   "id": "02f3ecb4",
   "metadata": {},
   "outputs": [],
   "source": [
    "data=non_earth['Year']\n",
    "agg_vals = data.value_counts()\n",
    "agg_vals = agg_vals.to_frame()\n",
    "agg_vals.reset_index(inplace = True)\n",
    "agg_vals.rename(columns = {'index':'year','Year':'num_tsu'}, inplace = True)\n",
    "agg_vals = agg_vals.sort_values('year', ascending = False).reset_index()\n",
    "agg_vals.drop('index',axis = 1, inplace = True)"
   ]
  },
  {
   "cell_type": "code",
   "execution_count": 89,
   "id": "3453d7fd",
   "metadata": {},
   "outputs": [
    {
     "data": {
      "text/html": [
       "<div>\n",
       "<style scoped>\n",
       "    .dataframe tbody tr th:only-of-type {\n",
       "        vertical-align: middle;\n",
       "    }\n",
       "\n",
       "    .dataframe tbody tr th {\n",
       "        vertical-align: top;\n",
       "    }\n",
       "\n",
       "    .dataframe thead th {\n",
       "        text-align: right;\n",
       "    }\n",
       "</style>\n",
       "<table border=\"1\" class=\"dataframe\">\n",
       "  <thead>\n",
       "    <tr style=\"text-align: right;\">\n",
       "      <th></th>\n",
       "      <th>year</th>\n",
       "      <th>num_tsu</th>\n",
       "    </tr>\n",
       "  </thead>\n",
       "  <tbody>\n",
       "    <tr>\n",
       "      <th>0</th>\n",
       "      <td>2023</td>\n",
       "      <td>1</td>\n",
       "    </tr>\n",
       "    <tr>\n",
       "      <th>1</th>\n",
       "      <td>2022</td>\n",
       "      <td>5</td>\n",
       "    </tr>\n",
       "    <tr>\n",
       "      <th>2</th>\n",
       "      <td>2021</td>\n",
       "      <td>1</td>\n",
       "    </tr>\n",
       "    <tr>\n",
       "      <th>3</th>\n",
       "      <td>2020</td>\n",
       "      <td>3</td>\n",
       "    </tr>\n",
       "    <tr>\n",
       "      <th>4</th>\n",
       "      <td>2019</td>\n",
       "      <td>3</td>\n",
       "    </tr>\n",
       "    <tr>\n",
       "      <th>...</th>\n",
       "      <td>...</td>\n",
       "      <td>...</td>\n",
       "    </tr>\n",
       "    <tr>\n",
       "      <th>90</th>\n",
       "      <td>1905</td>\n",
       "      <td>2</td>\n",
       "    </tr>\n",
       "    <tr>\n",
       "      <th>91</th>\n",
       "      <td>1903</td>\n",
       "      <td>2</td>\n",
       "    </tr>\n",
       "    <tr>\n",
       "      <th>92</th>\n",
       "      <td>1902</td>\n",
       "      <td>3</td>\n",
       "    </tr>\n",
       "    <tr>\n",
       "      <th>93</th>\n",
       "      <td>1901</td>\n",
       "      <td>1</td>\n",
       "    </tr>\n",
       "    <tr>\n",
       "      <th>94</th>\n",
       "      <td>1900</td>\n",
       "      <td>1</td>\n",
       "    </tr>\n",
       "  </tbody>\n",
       "</table>\n",
       "<p>95 rows × 2 columns</p>\n",
       "</div>"
      ],
      "text/plain": [
       "    year  num_tsu\n",
       "0   2023        1\n",
       "1   2022        5\n",
       "2   2021        1\n",
       "3   2020        3\n",
       "4   2019        3\n",
       "..   ...      ...\n",
       "90  1905        2\n",
       "91  1903        2\n",
       "92  1902        3\n",
       "93  1901        1\n",
       "94  1900        1\n",
       "\n",
       "[95 rows x 2 columns]"
      ]
     },
     "execution_count": 89,
     "metadata": {},
     "output_type": "execute_result"
    }
   ],
   "source": [
    "agg_vals"
   ]
  },
  {
   "cell_type": "code",
   "execution_count": 97,
   "id": "eb27482a",
   "metadata": {},
   "outputs": [
    {
     "data": {
      "image/png": "[encoded data removed]",
      "text/plain": [
       "<Figure size 1500x600 with 1 Axes>"
      ]
     },
     "metadata": {},
     "output_type": "display_data"
    }
   ],
   "source": [
    "plt.figure(figsize=(15,6))\n",
    "sns.barplot(data=agg_vals,x='year',y='num_tsu',palette = 'viridis')\n",
    "plt.xticks(rotation=90, ha='center')\n",
    "plt.ylabel(\"Number of Tsunamis\")\n",
    "plt.title('Global Non Earthquake Caused Tsunamis per Year')\n",
    "plt.show()"
   ]
  },
  {
   "cell_type": "code",
   "execution_count": null,
   "id": "309e64ce",
   "metadata": {},
   "outputs": [],
   "source": []
  },
  {
   "cell_type": "markdown",
   "id": "94c05abf",
   "metadata": {},
   "source": [
    "@todo: Look thourgh the list of unique countries there are some weird outliers\n",
    "like Ukraine, Switzerland, and Georgia"
   ]
  }
 ],
 "metadata": {
  "kernelspec": {
   "display_name": "Python 3 (ipykernel)",
   "language": "python",
   "name": "python3"
  },
  "language_info": {
   "codemirror_mode": {
    "name": "ipython",
    "version": 3
   },
   "file_extension": ".py",
   "mimetype": "text/x-python",
   "name": "python",
   "nbconvert_exporter": "python",
   "pygments_lexer": "ipython3",
   "version": "3.11.4"
  }
 },
 "nbformat": 4,
 "nbformat_minor": 5
}
